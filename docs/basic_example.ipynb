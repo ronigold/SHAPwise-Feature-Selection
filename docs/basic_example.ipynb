{
 "cells": [
  {
   "cell_type": "code",
   "execution_count": 9,
   "id": "2dce36b5-c302-4bc5-b20e-d04eaf5aa49b",
   "metadata": {},
   "outputs": [],
   "source": [
    "import sys\n",
    "from pathlib import Path\n",
    "ROOT_PATH = str('../sfs')\n",
    "sys.path.append(ROOT_PATH)\n",
    "from shapwise_feature_selector import *\n",
    "np.random.seed(0)\n",
    "%matplotlib inline"
   ]
  },
  {
   "cell_type": "code",
   "execution_count": 6,
   "id": "72728a7e-57b0-40ad-bd24-a657ae12450f",
   "metadata": {
    "tags": []
   },
   "outputs": [],
   "source": [
    "import sys\n",
    "from pathlib import Path\n",
    "cwd = Path.cwd()\n",
    "ROOT_PATH = str('../../op-data-science-prod')\n",
    "\n",
    "sys.path.append(ROOT_PATH)\n",
    "\n",
    "from simpml.tabular.all import *\n",
    "np.random.seed(0)\n",
    "%matplotlib inline\n",
    "\n",
    "from feature_engine.discretisation import EqualWidthDiscretiser\n",
    "\n",
    "class NumericToStringTransformer(BaseEstimator, TransformerMixin):\n",
    "    \"\"\"\n",
    "    A transformer that converts numeric values into their string representation.\n",
    "    \"\"\"\n",
    "    \n",
    "    def fit(self, X, y=None):\n",
    "        \"\"\"\n",
    "        Fit does nothing in this case as no fitting is necessary.\n",
    "        :param X: Input data, array-like, shape (n_samples, n_features)\n",
    "        :param y: Not used, present for API consistency by convention.\n",
    "        :return: self\n",
    "        \"\"\"\n",
    "        # No fitting process required as we're just converting types\n",
    "        return self\n",
    "    \n",
    "    def transform(self, X):\n",
    "        \"\"\"\n",
    "        Transform numeric values in the dataset to strings.\n",
    "        :param X: Input data, array-like, shape (n_samples, n_features)\n",
    "        :return: Transformed data with numeric values converted to strings.\n",
    "        \"\"\"\n",
    "        # Apply the transformation column-wise\n",
    "        if isinstance(X, pd.DataFrame):\n",
    "            for column in X.columns:\n",
    "                X[column] = X[column].astype(str)\n",
    "        else:\n",
    "            X = X.astype(str)\n",
    "        return X"
   ]
  },
  {
   "cell_type": "code",
   "execution_count": 7,
   "id": "481c3a22-8840-4311-abb7-59eaa0f6f59a",
   "metadata": {},
   "outputs": [
    {
     "data": {
      "text/html": [
       "<style type=\"text/css\">\n",
       "#T_d0e7a_row0_col8, #T_d0e7a_row0_col9, #T_d0e7a_row0_col10, #T_d0e7a_row0_col11, #T_d0e7a_row0_col12, #T_d0e7a_row0_col13 {\n",
       "  background-color: red;\n",
       "}\n",
       "#T_d0e7a_row1_col8, #T_d0e7a_row1_col11, #T_d0e7a_row2_col8, #T_d0e7a_row2_col10, #T_d0e7a_row2_col12, #T_d0e7a_row2_col13 {\n",
       "  background-color: yellow;\n",
       "}\n",
       "#T_d0e7a_row2_col9 {\n",
       "  background-color: yellow;\n",
       "  background-color: green;\n",
       "}\n",
       "</style>\n",
       "<table id=\"T_d0e7a\">\n",
       "  <thead>\n",
       "    <tr>\n",
       "      <th class=\"blank level0\" >&nbsp;</th>\n",
       "      <th id=\"T_d0e7a_level0_col0\" class=\"col_heading level0 col0\" >Experiment ID</th>\n",
       "      <th id=\"T_d0e7a_level0_col1\" class=\"col_heading level0 col1\" >Experiment Description</th>\n",
       "      <th id=\"T_d0e7a_level0_col2\" class=\"col_heading level0 col2\" >Model</th>\n",
       "      <th id=\"T_d0e7a_level0_col3\" class=\"col_heading level0 col3\" >Model Description</th>\n",
       "      <th id=\"T_d0e7a_level0_col4\" class=\"col_heading level0 col4\" >Data Version</th>\n",
       "      <th id=\"T_d0e7a_level0_col5\" class=\"col_heading level0 col5\" >Data Description</th>\n",
       "      <th id=\"T_d0e7a_level0_col6\" class=\"col_heading level0 col6\" >Model Params</th>\n",
       "      <th id=\"T_d0e7a_level0_col7\" class=\"col_heading level0 col7\" >Metric Params</th>\n",
       "      <th id=\"T_d0e7a_level0_col8\" class=\"col_heading level0 col8\" >Accuracy</th>\n",
       "      <th id=\"T_d0e7a_level0_col9\" class=\"col_heading level0 col9\" >AUC</th>\n",
       "      <th id=\"T_d0e7a_level0_col10\" class=\"col_heading level0 col10\" >Recall</th>\n",
       "      <th id=\"T_d0e7a_level0_col11\" class=\"col_heading level0 col11\" >Precision</th>\n",
       "      <th id=\"T_d0e7a_level0_col12\" class=\"col_heading level0 col12\" >Balanced Accuracy</th>\n",
       "      <th id=\"T_d0e7a_level0_col13\" class=\"col_heading level0 col13\" >F1</th>\n",
       "      <th id=\"T_d0e7a_level0_col14\" class=\"col_heading level0 col14\" >Run Time</th>\n",
       "    </tr>\n",
       "  </thead>\n",
       "  <tbody>\n",
       "    <tr>\n",
       "      <th id=\"T_d0e7a_level0_row0\" class=\"row_heading level0 row0\" >0</th>\n",
       "      <td id=\"T_d0e7a_row0_col0\" class=\"data row0 col0\" >20240218191211_97b7</td>\n",
       "      <td id=\"T_d0e7a_row0_col1\" class=\"data row0 col1\" ></td>\n",
       "      <td id=\"T_d0e7a_row0_col2\" class=\"data row0 col2\" >Baseline Classification</td>\n",
       "      <td id=\"T_d0e7a_row0_col3\" class=\"data row0 col3\" >Default settings</td>\n",
       "      <td id=\"T_d0e7a_row0_col4\" class=\"data row0 col4\" >55f87c5f</td>\n",
       "      <td id=\"T_d0e7a_row0_col5\" class=\"data row0 col5\" ></td>\n",
       "      <td id=\"T_d0e7a_row0_col6\" class=\"data row0 col6\" >{'experiment_manager': Prediction Type: PredictionType.BinaryClassification, Metric: Metric: AUC. Description: , Random State: 0}</td>\n",
       "      <td id=\"T_d0e7a_row0_col7\" class=\"data row0 col7\" >{'pos_label': 1}</td>\n",
       "      <td id=\"T_d0e7a_row0_col8\" class=\"data row0 col8\" >0.497194</td>\n",
       "      <td id=\"T_d0e7a_row0_col9\" class=\"data row0 col9\" >0.466302</td>\n",
       "      <td id=\"T_d0e7a_row0_col10\" class=\"data row0 col10\" >0.333333</td>\n",
       "      <td id=\"T_d0e7a_row0_col11\" class=\"data row0 col11\" >0.341317</td>\n",
       "      <td id=\"T_d0e7a_row0_col12\" class=\"data row0 col12\" >0.466302</td>\n",
       "      <td id=\"T_d0e7a_row0_col13\" class=\"data row0 col13\" >0.337278</td>\n",
       "      <td id=\"T_d0e7a_row0_col14\" class=\"data row0 col14\" >0:00:00</td>\n",
       "    </tr>\n",
       "    <tr>\n",
       "      <th id=\"T_d0e7a_level0_row1\" class=\"row_heading level0 row1\" >1</th>\n",
       "      <td id=\"T_d0e7a_row1_col0\" class=\"data row1 col0\" >20240218191211_97b7</td>\n",
       "      <td id=\"T_d0e7a_row1_col1\" class=\"data row1 col1\" ></td>\n",
       "      <td id=\"T_d0e7a_row1_col2\" class=\"data row1 col2\" >Decision Tree</td>\n",
       "      <td id=\"T_d0e7a_row1_col3\" class=\"data row1 col3\" >Default settings</td>\n",
       "      <td id=\"T_d0e7a_row1_col4\" class=\"data row1 col4\" >55f87c5f</td>\n",
       "      <td id=\"T_d0e7a_row1_col5\" class=\"data row1 col5\" ></td>\n",
       "      <td id=\"T_d0e7a_row1_col6\" class=\"data row1 col6\" >{'experiment_manager': Prediction Type: PredictionType.BinaryClassification, Metric: Metric: AUC. Description: , Random State: 0}</td>\n",
       "      <td id=\"T_d0e7a_row1_col7\" class=\"data row1 col7\" >{'pos_label': 1}</td>\n",
       "      <td id=\"T_d0e7a_row1_col8\" class=\"data row1 col8\" >0.875421</td>\n",
       "      <td id=\"T_d0e7a_row1_col9\" class=\"data row1 col9\" >0.848193</td>\n",
       "      <td id=\"T_d0e7a_row1_col10\" class=\"data row1 col10\" >0.730994</td>\n",
       "      <td id=\"T_d0e7a_row1_col11\" class=\"data row1 col11\" >0.929368</td>\n",
       "      <td id=\"T_d0e7a_row1_col12\" class=\"data row1 col12\" >0.848193</td>\n",
       "      <td id=\"T_d0e7a_row1_col13\" class=\"data row1 col13\" >0.818331</td>\n",
       "      <td id=\"T_d0e7a_row1_col14\" class=\"data row1 col14\" >0:00:00</td>\n",
       "    </tr>\n",
       "    <tr>\n",
       "      <th id=\"T_d0e7a_level0_row2\" class=\"row_heading level0 row2\" >2</th>\n",
       "      <td id=\"T_d0e7a_row2_col0\" class=\"data row2 col0\" >20240218191211_97b7</td>\n",
       "      <td id=\"T_d0e7a_row2_col1\" class=\"data row2 col1\" ></td>\n",
       "      <td id=\"T_d0e7a_row2_col2\" class=\"data row2 col2\" >Random Forest</td>\n",
       "      <td id=\"T_d0e7a_row2_col3\" class=\"data row2 col3\" >Default settings</td>\n",
       "      <td id=\"T_d0e7a_row2_col4\" class=\"data row2 col4\" >55f87c5f</td>\n",
       "      <td id=\"T_d0e7a_row2_col5\" class=\"data row2 col5\" ></td>\n",
       "      <td id=\"T_d0e7a_row2_col6\" class=\"data row2 col6\" >{'experiment_manager': Prediction Type: PredictionType.BinaryClassification, Metric: Metric: AUC. Description: , Random State: 0}</td>\n",
       "      <td id=\"T_d0e7a_row2_col7\" class=\"data row2 col7\" >{'pos_label': 1}</td>\n",
       "      <td id=\"T_d0e7a_row2_col8\" class=\"data row2 col8\" >0.875421</td>\n",
       "      <td id=\"T_d0e7a_row2_col9\" class=\"data row2 col9\" >0.850398</td>\n",
       "      <td id=\"T_d0e7a_row2_col10\" class=\"data row2 col10\" >0.742690</td>\n",
       "      <td id=\"T_d0e7a_row2_col11\" class=\"data row2 col11\" >0.916968</td>\n",
       "      <td id=\"T_d0e7a_row2_col12\" class=\"data row2 col12\" >0.850398</td>\n",
       "      <td id=\"T_d0e7a_row2_col13\" class=\"data row2 col13\" >0.820679</td>\n",
       "      <td id=\"T_d0e7a_row2_col14\" class=\"data row2 col14\" >0:00:00</td>\n",
       "    </tr>\n",
       "    <tr>\n",
       "      <th id=\"T_d0e7a_level0_row3\" class=\"row_heading level0 row3\" >3</th>\n",
       "      <td id=\"T_d0e7a_row3_col0\" class=\"data row3 col0\" >20240218191211_97b7</td>\n",
       "      <td id=\"T_d0e7a_row3_col1\" class=\"data row3 col1\" ></td>\n",
       "      <td id=\"T_d0e7a_row3_col2\" class=\"data row3 col2\" >Gradient Boosting</td>\n",
       "      <td id=\"T_d0e7a_row3_col3\" class=\"data row3 col3\" >Default settings</td>\n",
       "      <td id=\"T_d0e7a_row3_col4\" class=\"data row3 col4\" >55f87c5f</td>\n",
       "      <td id=\"T_d0e7a_row3_col5\" class=\"data row3 col5\" ></td>\n",
       "      <td id=\"T_d0e7a_row3_col6\" class=\"data row3 col6\" >{'experiment_manager': Prediction Type: PredictionType.BinaryClassification, Metric: Metric: AUC. Description: , Random State: 0}</td>\n",
       "      <td id=\"T_d0e7a_row3_col7\" class=\"data row3 col7\" >{'pos_label': 1}</td>\n",
       "      <td id=\"T_d0e7a_row3_col8\" class=\"data row3 col8\" >0.868687</td>\n",
       "      <td id=\"T_d0e7a_row3_col9\" class=\"data row3 col9\" >0.841626</td>\n",
       "      <td id=\"T_d0e7a_row3_col10\" class=\"data row3 col10\" >0.725146</td>\n",
       "      <td id=\"T_d0e7a_row3_col11\" class=\"data row3 col11\" >0.915129</td>\n",
       "      <td id=\"T_d0e7a_row3_col12\" class=\"data row3 col12\" >0.841626</td>\n",
       "      <td id=\"T_d0e7a_row3_col13\" class=\"data row3 col13\" >0.809135</td>\n",
       "      <td id=\"T_d0e7a_row3_col14\" class=\"data row3 col14\" >0:00:00</td>\n",
       "    </tr>\n",
       "    <tr>\n",
       "      <th id=\"T_d0e7a_level0_row4\" class=\"row_heading level0 row4\" >4</th>\n",
       "      <td id=\"T_d0e7a_row4_col0\" class=\"data row4 col0\" >20240218191211_97b7</td>\n",
       "      <td id=\"T_d0e7a_row4_col1\" class=\"data row4 col1\" ></td>\n",
       "      <td id=\"T_d0e7a_row4_col2\" class=\"data row4 col2\" >XGBoost</td>\n",
       "      <td id=\"T_d0e7a_row4_col3\" class=\"data row4 col3\" >Default settings</td>\n",
       "      <td id=\"T_d0e7a_row4_col4\" class=\"data row4 col4\" >55f87c5f</td>\n",
       "      <td id=\"T_d0e7a_row4_col5\" class=\"data row4 col5\" ></td>\n",
       "      <td id=\"T_d0e7a_row4_col6\" class=\"data row4 col6\" >{'experiment_manager': Prediction Type: PredictionType.BinaryClassification, Metric: Metric: AUC. Description: , Random State: 0}</td>\n",
       "      <td id=\"T_d0e7a_row4_col7\" class=\"data row4 col7\" >{'pos_label': 1}</td>\n",
       "      <td id=\"T_d0e7a_row4_col8\" class=\"data row4 col8\" >0.830527</td>\n",
       "      <td id=\"T_d0e7a_row4_col9\" class=\"data row4 col9\" >0.795777</td>\n",
       "      <td id=\"T_d0e7a_row4_col10\" class=\"data row4 col10\" >0.646199</td>\n",
       "      <td id=\"T_d0e7a_row4_col11\" class=\"data row4 col11\" >0.880478</td>\n",
       "      <td id=\"T_d0e7a_row4_col12\" class=\"data row4 col12\" >0.795777</td>\n",
       "      <td id=\"T_d0e7a_row4_col13\" class=\"data row4 col13\" >0.745363</td>\n",
       "      <td id=\"T_d0e7a_row4_col14\" class=\"data row4 col14\" >0:00:00</td>\n",
       "    </tr>\n",
       "  </tbody>\n",
       "</table>\n"
      ],
      "text/plain": [
       "<pandas.io.formats.style.Styler at 0x7f53855b8ca0>"
      ]
     },
     "metadata": {},
     "output_type": "display_data"
    }
   ],
   "source": [
    "data_manager = SupervisedTabularDataManager(data = DataSet.load_titanic_dataset(),\n",
    "                                            target = 'Survived',\n",
    "                                            prediction_type = PredictionType.BinaryClassification,\n",
    "                                            splitter = 'RCA')\n",
    "data_manager.build_pipeline(drop_cols = ['PassengerId'])\n",
    "data_manager.pipeline.sklearn_pipeline.steps.insert(9, ('EqualFrequencyDiscretiser', EqualWidthDiscretiser(bins = 3)))\n",
    "data_manager.pipeline.sklearn_pipeline.steps.insert(10, ('NumericToStringTransformer', NumericToStringTransformer()))\n",
    "exp_mang = ExperimentManager(data_manager, optimize_metric = MetricName.AUC)\n",
    "exp_mang.remove_models(['Logistic Regression','Support Vector Classifier','AdaBoost Classifier','LightGBM'])\n",
    "exp_mang.run_experiment(metrics_kwargs = {'pos_label': 1})"
   ]
  },
  {
   "cell_type": "code",
   "execution_count": 14,
   "id": "08f71440-60f0-4da2-88e2-6bc251416061",
   "metadata": {
    "tags": []
   },
   "outputs": [],
   "source": [
    "X_train, y_train = data_manager.get_training_data()\n",
    "X_test, y_test = data_manager.get_validation_data()"
   ]
  },
  {
   "cell_type": "code",
   "execution_count": 15,
   "id": "800775d8-33b2-4e47-a28c-fb0e4890af31",
   "metadata": {
    "tags": []
   },
   "outputs": [],
   "source": [
    "sfs_model = SHAPwiseFeatureSelector(exp_mang.best_model.model, accuracy_score, number_top_fi = 30)"
   ]
  },
  {
   "cell_type": "code",
   "execution_count": 16,
   "id": "56583ccd-6356-4be9-960b-8c1d299448aa",
   "metadata": {
    "tags": []
   },
   "outputs": [
    {
     "name": "stdout",
     "output_type": "stream",
     "text": [
      "Bad noisy feature found: Embarked_Q\n",
      "old score: 0.8754 new score: 0.8754\n"
     ]
    },
    {
     "data": {
      "text/html": [
       "<style>#sk-container-id-2 {color: black;}#sk-container-id-2 pre{padding: 0;}#sk-container-id-2 div.sk-toggleable {background-color: white;}#sk-container-id-2 label.sk-toggleable__label {cursor: pointer;display: block;width: 100%;margin-bottom: 0;padding: 0.3em;box-sizing: border-box;text-align: center;}#sk-container-id-2 label.sk-toggleable__label-arrow:before {content: \"▸\";float: left;margin-right: 0.25em;color: #696969;}#sk-container-id-2 label.sk-toggleable__label-arrow:hover:before {color: black;}#sk-container-id-2 div.sk-estimator:hover label.sk-toggleable__label-arrow:before {color: black;}#sk-container-id-2 div.sk-toggleable__content {max-height: 0;max-width: 0;overflow: hidden;text-align: left;background-color: #f0f8ff;}#sk-container-id-2 div.sk-toggleable__content pre {margin: 0.2em;color: black;border-radius: 0.25em;background-color: #f0f8ff;}#sk-container-id-2 input.sk-toggleable__control:checked~div.sk-toggleable__content {max-height: 200px;max-width: 100%;overflow: auto;}#sk-container-id-2 input.sk-toggleable__control:checked~label.sk-toggleable__label-arrow:before {content: \"▾\";}#sk-container-id-2 div.sk-estimator input.sk-toggleable__control:checked~label.sk-toggleable__label {background-color: #d4ebff;}#sk-container-id-2 div.sk-label input.sk-toggleable__control:checked~label.sk-toggleable__label {background-color: #d4ebff;}#sk-container-id-2 input.sk-hidden--visually {border: 0;clip: rect(1px 1px 1px 1px);clip: rect(1px, 1px, 1px, 1px);height: 1px;margin: -1px;overflow: hidden;padding: 0;position: absolute;width: 1px;}#sk-container-id-2 div.sk-estimator {font-family: monospace;background-color: #f0f8ff;border: 1px dotted black;border-radius: 0.25em;box-sizing: border-box;margin-bottom: 0.5em;}#sk-container-id-2 div.sk-estimator:hover {background-color: #d4ebff;}#sk-container-id-2 div.sk-parallel-item::after {content: \"\";width: 100%;border-bottom: 1px solid gray;flex-grow: 1;}#sk-container-id-2 div.sk-label:hover label.sk-toggleable__label {background-color: #d4ebff;}#sk-container-id-2 div.sk-serial::before {content: \"\";position: absolute;border-left: 1px solid gray;box-sizing: border-box;top: 0;bottom: 0;left: 50%;z-index: 0;}#sk-container-id-2 div.sk-serial {display: flex;flex-direction: column;align-items: center;background-color: white;padding-right: 0.2em;padding-left: 0.2em;position: relative;}#sk-container-id-2 div.sk-item {position: relative;z-index: 1;}#sk-container-id-2 div.sk-parallel {display: flex;align-items: stretch;justify-content: center;background-color: white;position: relative;}#sk-container-id-2 div.sk-item::before, #sk-container-id-2 div.sk-parallel-item::before {content: \"\";position: absolute;border-left: 1px solid gray;box-sizing: border-box;top: 0;bottom: 0;left: 50%;z-index: -1;}#sk-container-id-2 div.sk-parallel-item {display: flex;flex-direction: column;z-index: 1;position: relative;background-color: white;}#sk-container-id-2 div.sk-parallel-item:first-child::after {align-self: flex-end;width: 50%;}#sk-container-id-2 div.sk-parallel-item:last-child::after {align-self: flex-start;width: 50%;}#sk-container-id-2 div.sk-parallel-item:only-child::after {width: 0;}#sk-container-id-2 div.sk-dashed-wrapped {border: 1px dashed gray;margin: 0 0.4em 0.5em 0.4em;box-sizing: border-box;padding-bottom: 0.4em;background-color: white;}#sk-container-id-2 div.sk-label label {font-family: monospace;font-weight: bold;display: inline-block;line-height: 1.2em;}#sk-container-id-2 div.sk-label-container {text-align: center;}#sk-container-id-2 div.sk-container {/* jupyter's `normalize.less` sets `[hidden] { display: none; }` but bootstrap.min.css set `[hidden] { display: none !important; }` so we also need the `!important` here to be able to override the default hidden behavior on the sphinx rendered scikit-learn.org. See: https://github.com/scikit-learn/scikit-learn/issues/21755 */display: inline-block !important;position: relative;}#sk-container-id-2 div.sk-text-repr-fallback {display: none;}</style><div id=\"sk-container-id-2\" class=\"sk-top-container\"><div class=\"sk-text-repr-fallback\"><pre>SHAPwiseFeatureSelector(base_estimator=RandomForestClassifier(n_jobs=-1,\n",
       "                                                              random_state=42),\n",
       "                        metric=&lt;function accuracy_score at 0x7f545140fee0&gt;,\n",
       "                        number_top_fi=30)</pre><b>In a Jupyter environment, please rerun this cell to show the HTML representation or trust the notebook. <br />On GitHub, the HTML representation is unable to render, please try loading this page with nbviewer.org.</b></div><div class=\"sk-container\" hidden><div class=\"sk-item sk-dashed-wrapped\"><div class=\"sk-label-container\"><div class=\"sk-label sk-toggleable\"><input class=\"sk-toggleable__control sk-hidden--visually\" id=\"sk-estimator-id-2\" type=\"checkbox\" ><label for=\"sk-estimator-id-2\" class=\"sk-toggleable__label sk-toggleable__label-arrow\">SHAPwiseFeatureSelector</label><div class=\"sk-toggleable__content\"><pre>SHAPwiseFeatureSelector(base_estimator=RandomForestClassifier(n_jobs=-1,\n",
       "                                                              random_state=42),\n",
       "                        metric=&lt;function accuracy_score at 0x7f545140fee0&gt;,\n",
       "                        number_top_fi=30)</pre></div></div></div><div class=\"sk-parallel\"><div class=\"sk-parallel-item\"><div class=\"sk-item\"><div class=\"sk-label-container\"><div class=\"sk-label sk-toggleable\"><input class=\"sk-toggleable__control sk-hidden--visually\" id=\"sk-estimator-id-3\" type=\"checkbox\" ><label for=\"sk-estimator-id-3\" class=\"sk-toggleable__label sk-toggleable__label-arrow\">base_estimator: RandomForestClassifier</label><div class=\"sk-toggleable__content\"><pre>RandomForestClassifier(n_jobs=-1, random_state=42)</pre></div></div></div><div class=\"sk-serial\"><div class=\"sk-item\"><div class=\"sk-estimator sk-toggleable\"><input class=\"sk-toggleable__control sk-hidden--visually\" id=\"sk-estimator-id-4\" type=\"checkbox\" ><label for=\"sk-estimator-id-4\" class=\"sk-toggleable__label sk-toggleable__label-arrow\">RandomForestClassifier</label><div class=\"sk-toggleable__content\"><pre>RandomForestClassifier(n_jobs=-1, random_state=42)</pre></div></div></div></div></div></div></div></div></div></div>"
      ],
      "text/plain": [
       "SHAPwiseFeatureSelector(base_estimator=RandomForestClassifier(n_jobs=-1,\n",
       "                                                              random_state=42),\n",
       "                        metric=<function accuracy_score at 0x7f545140fee0>,\n",
       "                        number_top_fi=30)"
      ]
     },
     "execution_count": 16,
     "metadata": {},
     "output_type": "execute_result"
    }
   ],
   "source": [
    "sfs_model.fit(X_train, y_train, X_test, y_test)"
   ]
  }
 ],
 "metadata": {
  "kernelspec": {
   "display_name": "simpml",
   "language": "python",
   "name": "simpml"
  },
  "language_info": {
   "codemirror_mode": {
    "name": "ipython",
    "version": 3
   },
   "file_extension": ".py",
   "mimetype": "text/x-python",
   "name": "python",
   "nbconvert_exporter": "python",
   "pygments_lexer": "ipython3",
   "version": "3.8.16"
  }
 },
 "nbformat": 4,
 "nbformat_minor": 5
}
